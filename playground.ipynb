{
 "cells": [
  {
   "cell_type": "code",
   "execution_count": 81,
   "metadata": {
    "collapsed": true
   },
   "outputs": [],
   "source": [
    "import numpy as np\n",
    "import os\n",
    "\n",
    "output_folder = \"generated-embeddings\"\n",
    "lables_file = \"lables.npy\"\n",
    "encodings_file = \"encodings.npy\""
   ]
  },
  {
   "cell_type": "code",
   "execution_count": 82,
   "metadata": {
    "collapsed": true
   },
   "outputs": [],
   "source": [
    "lables = np.load(os.path.join(output_folder, lables_file))\n",
    "encodings = np.load(os.path.join(output_folder, encodings_file))"
   ]
  },
  {
   "cell_type": "code",
   "execution_count": 83,
   "metadata": {
    "collapsed": true
   },
   "outputs": [],
   "source": [
    "from sklearn.preprocessing import LabelEncoder\n",
    "from sklearn.neighbors import KNeighborsClassifier\n",
    "from sklearn.svm import LinearSVC\n",
    "from sklearn.metrics import f1_score, accuracy_score\n"
   ]
  },
  {
   "cell_type": "code",
   "execution_count": 84,
   "metadata": {
    "collapsed": true
   },
   "outputs": [],
   "source": [
    "knn = KNeighborsClassifier(n_neighbors=1, metric='euclidean')\n",
    "svc = LinearSVC()"
   ]
  },
  {
   "cell_type": "code",
   "execution_count": 85,
   "metadata": {
    "collapsed": true
   },
   "outputs": [],
   "source": [
    "from sklearn.model_selection import train_test_split"
   ]
  },
  {
   "cell_type": "code",
   "execution_count": 88,
   "metadata": {},
   "outputs": [
    {
     "name": "stdout",
     "output_type": "stream",
     "text": [
      "KNN accuracy = 0.636364, SVM accuracy = 0.575758\n"
     ]
    }
   ],
   "source": [
    "from sklearn.svm import SVC\n",
    "\n",
    "def train_classifier(encodings, lables, save_to=\"classifier.pkl\"):\n",
    "    X_train, X_test, y_train, y_test = train_test_split(encodings,\n",
    "                                                        lables, \n",
    "                                                        test_size=0.33)\n",
    "    knn = KNeighborsClassifier(n_neighbors=1, metric='euclidean')\n",
    "    svc = SVC(kernel='linear', probability=True)\n",
    "\n",
    "    knn.fit(X_train, y_train)\n",
    "    svc.fit(X_train, y_train)\n",
    "\n",
    "    acc_knn = accuracy_score(y_test, knn.predict(X_test))\n",
    "    acc_svc = accuracy_score(y_test, svc.predict(X_test))\n",
    "\n",
    "    print('KNN accuracy = %f, SVM accuracy = %f'  % (acc_knn, acc_svc ))\n",
    "    with open(save_to, 'wb') as clf:\n",
    "        pickle.dump()\n",
    "    return knn, svc\n",
    "\n",
    "knn, svc = train_classifier(encoding, lables)"
   ]
  },
  {
   "cell_type": "code",
   "execution_count": 89,
   "metadata": {},
   "outputs": [
    {
     "data": {
      "text/plain": [
       "array([[ 0.33474911,  0.66525089]])"
      ]
     },
     "execution_count": 89,
     "metadata": {},
     "output_type": "execute_result"
    }
   ],
   "source": [
    "knn.predict_proba([X_test[0]])\n",
    "svc.predict_proba([X_test[1]])"
   ]
  },
  {
   "cell_type": "code",
   "execution_count": null,
   "metadata": {
    "collapsed": true
   },
   "outputs": [],
   "source": []
  }
 ],
 "metadata": {
  "kernelspec": {
   "display_name": "Python 3",
   "language": "python",
   "name": "python3"
  },
  "language_info": {
   "codemirror_mode": {
    "name": "ipython",
    "version": 3
   },
   "file_extension": ".py",
   "mimetype": "text/x-python",
   "name": "python",
   "nbconvert_exporter": "python",
   "pygments_lexer": "ipython3",
   "version": "3.5.2"
  }
 },
 "nbformat": 4,
 "nbformat_minor": 2
}
